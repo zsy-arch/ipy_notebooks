{
 "cells": [
  {
   "cell_type": "markdown",
   "metadata": {
    "id": "uUlBuPCe9viB",
    "tags": []
   },
   "source": [
    "# cat & fish classification 1"
   ]
  },
  {
   "cell_type": "code",
   "execution_count": 1,
   "metadata": {
    "id": "5s-GzTLjBACE",
    "tags": []
   },
   "outputs": [],
   "source": [
    "# !unzip /content/images.zip -d /content/sample_data/data1/"
   ]
  },
  {
   "cell_type": "code",
   "execution_count": 84,
   "metadata": {
    "id": "YpSPjQpN-i8k"
   },
   "outputs": [],
   "source": [
    "import torch\n",
    "import torch.nn as nn\n",
    "import torch.optim as optim\n",
    "import torch.utils.data\n",
    "import torch.nn.functional as F\n",
    "import torchvision\n",
    "from torchvision import transforms\n",
    "from PIL import Image, ImageFile\n",
    "import matplotlib.pyplot as plt\n",
    "\n",
    "ImageFile.LOAD_TRUNCATED_IMAGES=True"
   ]
  },
  {
   "cell_type": "code",
   "execution_count": 85,
   "metadata": {
    "id": "Cc7DeW9DTAEk"
   },
   "outputs": [],
   "source": [
    "def check_image(path):\n",
    "    try:\n",
    "        im = Image.open(path)\n",
    "        return True\n",
    "    except:\n",
    "        return False"
   ]
  },
  {
   "cell_type": "code",
   "execution_count": 86,
   "metadata": {
    "id": "g0zaY_uG-vd0"
   },
   "outputs": [],
   "source": [
    "img_transforms = transforms.Compose([\n",
    "    transforms.Resize((64, 64)),\n",
    "    transforms.ToTensor(),\n",
    "    transforms.Normalize(mean=[0.485, 0.456, 0.406],\n",
    "                         std=[0.229, 0.224, 0.225]),\n",
    "])\n",
    "\n",
    "train_data_path = \"data/data1/train/\"\n",
    "train_data = torchvision.datasets.ImageFolder(root=train_data_path,transform=img_transforms, is_valid_file=check_image)\n",
    "\n",
    "val_data_path = \"data/data1/val/\"\n",
    "val_data = torchvision.datasets.ImageFolder(root=val_data_path,transform=img_transforms, is_valid_file=check_image)"
   ]
  },
  {
   "cell_type": "code",
   "execution_count": 87,
   "metadata": {
    "id": "I7qRFQK4SkNs"
   },
   "outputs": [],
   "source": [
    "batch_size = 64\n",
    "\n",
    "train_data_loader = torch.utils.data.DataLoader(train_data, batch_size=batch_size, shuffle=True)\n",
    "val_data_loader  = torch.utils.data.DataLoader(val_data, batch_size=batch_size, shuffle=True)"
   ]
  },
  {
   "cell_type": "code",
   "execution_count": 88,
   "metadata": {
    "colab": {
     "base_uri": "https://localhost:8080/"
    },
    "id": "LctibY11dYBJ",
    "outputId": "51ab4442-3446-406a-f43a-869ddb826747"
   },
   "outputs": [
    {
     "name": "stdout",
     "output_type": "stream",
     "text": [
      "SimpleNet2(\n",
      "  (features): Sequential(\n",
      "    (0): Conv2d(3, 64, kernel_size=(11, 11), stride=(4, 4), padding=(2, 2))\n",
      "    (1): ReLU()\n",
      "    (2): MaxPool2d(kernel_size=3, stride=2, padding=0, dilation=1, ceil_mode=False)\n",
      "    (3): Conv2d(64, 192, kernel_size=(5, 5), stride=(1, 1), padding=(2, 2))\n",
      "    (4): ReLU()\n",
      "    (5): MaxPool2d(kernel_size=3, stride=2, padding=0, dilation=1, ceil_mode=False)\n",
      "    (6): Conv2d(192, 384, kernel_size=(3, 3), stride=(1, 1), padding=(1, 1))\n",
      "    (7): ReLU()\n",
      "    (8): Conv2d(384, 256, kernel_size=(3, 3), stride=(1, 1), padding=(1, 1))\n",
      "    (9): ReLU()\n",
      "    (10): Conv2d(256, 256, kernel_size=(3, 3), stride=(1, 1), padding=(1, 1))\n",
      "    (11): ReLU()\n",
      "    (12): MaxPool2d(kernel_size=3, stride=2, padding=0, dilation=1, ceil_mode=False)\n",
      "  )\n",
      "  (avgpool): AdaptiveAvgPool2d(output_size=(6, 6))\n",
      "  (classifier): Sequential(\n",
      "    (0): Dropout(p=0.5, inplace=False)\n",
      "    (1): Linear(in_features=9216, out_features=4096, bias=True)\n",
      "    (2): ReLU()\n",
      "    (3): Dropout(p=0.5, inplace=False)\n",
      "    (4): Linear(in_features=4096, out_features=4096, bias=True)\n",
      "    (5): ReLU()\n",
      "    (6): Linear(in_features=4096, out_features=2, bias=True)\n",
      "  )\n",
      ")\n"
     ]
    }
   ],
   "source": [
    "class SimpleNet2(nn.Module):\n",
    "  def __init__(self):\n",
    "    super(SimpleNet2, self).__init__()\n",
    "    self.features = nn.Sequential(\n",
    "        nn.Conv2d(3, 64, kernel_size=11, stride=4, padding=2),\n",
    "        nn.ReLU(),\n",
    "        nn.MaxPool2d(kernel_size=3, stride=2),\n",
    "        nn.Conv2d(64, 192, kernel_size=5, padding=2),\n",
    "        nn.ReLU(),\n",
    "        nn.MaxPool2d(kernel_size=3, stride=2),\n",
    "        nn.Conv2d(192, 384, kernel_size=3, padding=1),\n",
    "        nn.ReLU(),\n",
    "        nn.Conv2d(384, 256, kernel_size=3, padding=1),\n",
    "        nn.ReLU(),\n",
    "        nn.Conv2d(256, 256, kernel_size=3, padding=1),\n",
    "        nn.ReLU(),\n",
    "        nn.MaxPool2d(kernel_size=3, stride=2),\n",
    "    )\n",
    "    self.avgpool = nn.AdaptiveAvgPool2d((6, 6))\n",
    "    self.classifier = nn.Sequential(\n",
    "        nn.Dropout(),\n",
    "        nn.Linear(256 * 6 * 6, 4096),\n",
    "        nn.ReLU(),\n",
    "        nn.Dropout(),\n",
    "        nn.Linear(4096, 4096),\n",
    "        nn.ReLU(),\n",
    "        nn.Linear(4096, 2)\n",
    "    )\n",
    "\n",
    "  def forward(self, x):\n",
    "    x = self.features(x)\n",
    "    x = self.avgpool(x)\n",
    "    x = torch.flatten(x, 1)\n",
    "    x = self.classifier(x)\n",
    "    return x\n",
    "\n",
    "simplenet = SimpleNet2()\n",
    "print(simplenet)"
   ]
  },
  {
   "cell_type": "code",
   "execution_count": 89,
   "metadata": {
    "colab": {
     "base_uri": "https://localhost:8080/"
    },
    "id": "RW_t-mXvFans",
    "outputId": "625a76cd-73e3-49ad-84ab-1ebbdba285c8"
   },
   "outputs": [
    {
     "name": "stdout",
     "output_type": "stream",
     "text": [
      "Adam (\n",
      "Parameter Group 0\n",
      "    amsgrad: False\n",
      "    betas: (0.9, 0.999)\n",
      "    capturable: False\n",
      "    differentiable: False\n",
      "    eps: 1e-08\n",
      "    foreach: None\n",
      "    fused: None\n",
      "    lr: 0.0005\n",
      "    maximize: False\n",
      "    weight_decay: 0\n",
      ")\n"
     ]
    }
   ],
   "source": [
    "import torch.optim as optim\n",
    "\n",
    "optimizer = optim.Adam(simplenet.parameters(), lr=0.0005)\n",
    "print(optimizer)"
   ]
  },
  {
   "cell_type": "code",
   "execution_count": 90,
   "metadata": {
    "id": "WFEQINyMHFPc"
   },
   "outputs": [],
   "source": [
    "def train(model, optimizer, loss_fn, train_loader, val_loader, epochs=20, device=\"cpu\"):\n",
    "    loss_ = [[], []]\n",
    "    acc_ = []\n",
    "    for epoch in range(1, epochs+1):\n",
    "        training_loss = 0.0\n",
    "        valid_loss = 0.0\n",
    "        model.train()\n",
    "        for batch in train_loader:\n",
    "            optimizer.zero_grad()\n",
    "            inputs, targets = batch\n",
    "            inputs = inputs.to(device)\n",
    "            targets = targets.to(device)\n",
    "            output = model(inputs)\n",
    "            loss = loss_fn(output, targets)\n",
    "            loss.backward()\n",
    "            optimizer.step()\n",
    "            training_loss += loss.data.item() * inputs.size(0)\n",
    "        training_loss /= len(train_loader.dataset)\n",
    "        model.eval()\n",
    "        num_correct = 0\n",
    "        num_examples = 0\n",
    "        for batch in val_loader:\n",
    "            inputs, targets = batch\n",
    "            inputs = inputs.to(device)\n",
    "            output = model(inputs)\n",
    "            targets = targets.to(device)\n",
    "            loss = loss_fn(output, targets)\n",
    "            valid_loss += loss.data.item() * inputs.size(0)\n",
    "            correct = torch.eq(torch.max(F.softmax(output, dim=1), dim=1)[1], targets)\n",
    "            num_correct += torch.sum(correct).item()\n",
    "            num_examples += correct.shape[0]\n",
    "        valid_loss /= len(val_loader.dataset)\n",
    "        loss_[0] += [training_loss]\n",
    "        loss_[1] += [valid_loss]\n",
    "        acc_ += [num_correct / num_examples]\n",
    "        print(\n",
    "            f\"Epoch: {epoch}\",\n",
    "            f\"Training Loss: {training_loss}\",\n",
    "            f\"Validation Loss: {valid_loss}\",\n",
    "            f\"Acc: {acc_[-1]}\",\n",
    "            sep=\", \",\n",
    "        )\n",
    "    return loss_, acc_\n"
   ]
  },
  {
   "cell_type": "code",
   "execution_count": 91,
   "metadata": {
    "colab": {
     "base_uri": "https://localhost:8080/"
    },
    "id": "ryatZOo1SCS9",
    "outputId": "a9af806b-b645-4f08-f65a-77eee5f520c0"
   },
   "outputs": [
    {
     "name": "stdout",
     "output_type": "stream",
     "text": [
      "cuda is available\n",
      "Epoch: 1, Training Loss: 0.7515718934206753, Validation Loss: 0.7611640212691833, Acc: 0.17757009345794392\n",
      "Epoch: 2, Training Loss: 0.629378307118944, Validation Loss: 0.704236226661183, Acc: 0.17757009345794392\n",
      "Epoch: 3, Training Loss: 0.5395026791258538, Validation Loss: 0.6836084701190485, Acc: 0.7663551401869159\n",
      "Epoch: 4, Training Loss: 0.47755514304627056, Validation Loss: 0.5033025073113843, Acc: 0.7570093457943925\n",
      "Epoch: 5, Training Loss: 0.45195583992373417, Validation Loss: 0.5429515526673504, Acc: 0.7289719626168224\n",
      "Epoch: 6, Training Loss: 0.3867623787910334, Validation Loss: 0.6594189761955047, Acc: 0.6915887850467289\n",
      "Epoch: 7, Training Loss: 0.37167768634867054, Validation Loss: 0.4076268703581017, Acc: 0.8317757009345794\n",
      "Epoch: 8, Training Loss: 0.3363047760426546, Validation Loss: 0.46669521844275647, Acc: 0.7570093457943925\n",
      "Epoch: 9, Training Loss: 0.3115443641345309, Validation Loss: 0.5983060208436485, Acc: 0.6542056074766355\n",
      "Epoch: 10, Training Loss: 0.27591582230533923, Validation Loss: 0.43338069960335707, Acc: 0.7663551401869159\n",
      "Epoch: 11, Training Loss: 0.2365307336692926, Validation Loss: 0.32449760921647613, Acc: 0.8504672897196262\n",
      "Epoch: 12, Training Loss: 0.281182776045546, Validation Loss: 0.5224755462084976, Acc: 0.719626168224299\n",
      "Epoch: 13, Training Loss: 0.20895504662046302, Validation Loss: 0.5118378874297455, Acc: 0.8130841121495327\n",
      "Epoch: 14, Training Loss: 0.18281505409520746, Validation Loss: 0.5619438324019174, Acc: 0.7757009345794392\n",
      "Epoch: 15, Training Loss: 0.11104767762226292, Validation Loss: 0.6411192651106933, Acc: 0.7476635514018691\n",
      "Epoch: 16, Training Loss: 0.11771765777244825, Validation Loss: 0.3208833810324981, Acc: 0.9065420560747663\n",
      "Epoch: 17, Training Loss: 0.10236038432113137, Validation Loss: 1.1561995611012539, Acc: 0.6728971962616822\n",
      "Epoch: 18, Training Loss: 0.1121527900373809, Validation Loss: 0.37450870286638493, Acc: 0.8411214953271028\n",
      "Epoch: 19, Training Loss: 0.10101070980879172, Validation Loss: 0.8065233052333939, Acc: 0.719626168224299\n",
      "Epoch: 20, Training Loss: 0.035171509682051044, Validation Loss: 0.8920367638641429, Acc: 0.8317757009345794\n"
     ]
    }
   ],
   "source": [
    "if torch.cuda.is_available():\n",
    "    print(\"cuda is available\")\n",
    "    torch.cuda.set_device(0)\n",
    "    device = torch.device(\"cuda\")\n",
    "else:\n",
    "    device = torch.device(\"cpu\")\n",
    "\n",
    "simplenet.to(device)\n",
    "\n",
    "loss, acc = train(\n",
    "    simplenet,\n",
    "    optimizer,\n",
    "    torch.nn.CrossEntropyLoss(),\n",
    "    train_data_loader,\n",
    "    val_data_loader,\n",
    "    epochs=20,\n",
    "    device=device\n",
    ")"
   ]
  },
  {
   "cell_type": "code",
   "execution_count": 92,
   "metadata": {},
   "outputs": [
    {
     "data": {
      "image/png": "[encoded data removed]",
      "text/plain": [
       "<Figure size 1440x360 with 2 Axes>"
      ]
     },
     "metadata": {
      "needs_background": "light"
     },
     "output_type": "display_data"
    }
   ],
   "source": [
    "def plot_loss_acc(loss_, acc_):\n",
    "    epochs = range(len(acc_))\n",
    "    plt.figure(figsize=(20, 5))\n",
    "    ax = plt.subplot(1, 2, 1)\n",
    "    ax.set_title('Valid Accuracy & Loss')\n",
    "    plt.plot(epochs, acc_, 'r', label='Valid accuracy')\n",
    "    plt.plot(epochs, loss_[1], 'b', label='Valid Loss')\n",
    "    plt.legend()\n",
    "    \n",
    "    ax = plt.subplot(1, 2, 2)\n",
    "    ax.set_title('Training Loss')\n",
    "    plt.plot(epochs, loss_[0], 'r', label='Training Loss')\n",
    "    plt.legend()\n",
    "    plt.show()\n",
    "\n",
    "# print(loss, acc)\n",
    "plot_loss_acc(loss, acc)"
   ]
  },
  {
   "cell_type": "code",
   "execution_count": 56,
   "metadata": {
    "colab": {
     "base_uri": "https://localhost:8080/"
    },
    "id": "p9koJz89YGRN",
    "outputId": "63119fea-cb6d-4f1f-8afa-2ebd8c8fd932"
   },
   "outputs": [
    {
     "name": "stderr",
     "output_type": "stream",
     "text": [
      "/tmp/ipykernel_2317/3330686652.py:3: FutureWarning: You are using `torch.load` with `weights_only=False` (the current default value), which uses the default pickle module implicitly. It is possible to construct malicious pickle data which will execute arbitrary code during unpickling (See https://github.com/pytorch/pytorch/blob/main/SECURITY.md#untrusted-models for more details). In a future release, the default value for `weights_only` will be flipped to `True`. This limits the functions that could be executed during unpickling. Arbitrary objects will no longer be allowed to be loaded via this mode unless they are explicitly allowlisted by the user via `torch.serialization.add_safe_globals`. We recommend you start setting `weights_only=True` for any use case where you don't have full control of the loaded file. Please open an issue on GitHub for any issues related to this experimental feature.\n",
      "  simplenet_state_dict = torch.load(\"tmp/simplenet\")\n"
     ]
    },
    {
     "data": {
      "text/plain": [
       "<All keys matched successfully>"
      ]
     },
     "execution_count": 56,
     "metadata": {},
     "output_type": "execute_result"
    }
   ],
   "source": [
    "torch.save(simplenet.state_dict(), \"tmp/simplenet\")\n",
    "simplenet = SimpleNet2()\n",
    "simplenet_state_dict = torch.load(\"tmp/simplenet\")\n",
    "simplenet.load_state_dict(simplenet_state_dict)"
   ]
  },
  {
   "cell_type": "code",
   "execution_count": null,
   "metadata": {
    "colab": {
     "base_uri": "https://localhost:8080/"
    },
    "id": "QCNyPE1SYg_j",
    "outputId": "1bf5bb29-0a08-4b9b-e39f-69bb0aafefbf"
   },
   "outputs": [],
   "source": [
    "# labels = ['cat','fish']\n",
    "\n",
    "# img = Image.open(\"/content/sample_data/data1/val/cat/1041842900_1c5202b05c.jpg\")\n",
    "# img = img_transforms(img).to(device)\n",
    "# img = torch.unsqueeze(img, 0)\n",
    "\n",
    "# simplenet.eval()\n",
    "# prediction = F.softmax(simplenet(img), dim=1)\n",
    "# prediction = prediction.argmax()\n",
    "# print(labels[prediction])"
   ]
  },
  {
   "cell_type": "raw",
   "metadata": {},
   "source": []
  }
 ],
 "metadata": {
  "colab": {
   "provenance": []
  },
  "kernelspec": {
   "display_name": "Python 3 (ipykernel)",
   "language": "python",
   "name": "python3"
  },
  "language_info": {
   "codemirror_mode": {
    "name": "ipython",
    "version": 3
   },
   "file_extension": ".py",
   "mimetype": "text/x-python",
   "name": "python",
   "nbconvert_exporter": "python",
   "pygments_lexer": "ipython3",
   "version": "3.8.10"
  }
 },
 "nbformat": 4,
 "nbformat_minor": 4
}
